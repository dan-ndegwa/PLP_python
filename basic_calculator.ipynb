{
 "cells": [
  {
   "cell_type": "code",
   "execution_count": null,
   "id": "cf6065fa",
   "metadata": {
    "vscode": {
     "languageId": "plaintext"
    }
   },
   "outputs": [],
   "source": [
    "#Define the function(Formula)\n",
    "\n",
    "def sum(num_1,num_2):\n",
    "    return (num_1+num_2)\n",
    "\n",
    "def\n",
    "\n",
    "# User Input Engine\n",
    "\n",
    "num_1 = float(input(\"Enter the first value: \"))\n",
    "num_2 = float(input(\"Enter the second value: \"))"
   ]
  }
 ],
 "metadata": {
  "language_info": {
   "name": "python"
  }
 },
 "nbformat": 4,
 "nbformat_minor": 5
}
