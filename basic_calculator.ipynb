{
 "cells": [
  {
   "cell_type": "code",
   "execution_count": 1,
   "id": "cf6065fa",
   "metadata": {},
   "outputs": [
    {
     "name": "stdout",
     "output_type": "stream",
     "text": [
      "The sum is: 70.0\n",
      "The difference is: 30.0\n",
      "The product is: 1000.0\n",
      "The quotient is: 2.5\n"
     ]
    }
   ],
   "source": [
    "#Define the function(Formula)\n",
    "\n",
    "def sum(num_1,num_2):\n",
    "    return (num_1+num_2)\n",
    "\n",
    "def subtraction(num_1,num_2):\n",
    "    return(num_1-num_2)\n",
    "\n",
    "def multiply(num_1,num_2):\n",
    "    return(num_1*num_2)\n",
    "\n",
    "def div(num_1,num_2):\n",
    "    return(num_1/num_2)\n",
    "\n",
    "# User Input Engine\n",
    "\n",
    "num_1 = float(input(\"Enter the first value: \"))\n",
    "num_2 = float(input(\"Enter the second value: \"))\n",
    "\n",
    "output_sum = sum(num_1,num_2)\n",
    "output_diff = subtraction(num_1,num_2)\n",
    "output_mult = multiply(num_1,num_2)\n",
    "output_div = div(num_1, num_2)\n",
    "\n",
    "# Print the output\n",
    "\n",
    "print(f'The sum is: {output_sum}')\n",
    "print(f'The difference is: {output_diff}')\n",
    "print(f'The product is: {output_mult}')\n",
    "print(f'The quotient is: {output_div}')"
   ]
  }
 ],
 "metadata": {
  "kernelspec": {
   "display_name": "Python 3",
   "language": "python",
   "name": "python3"
  },
  "language_info": {
   "codemirror_mode": {
    "name": "ipython",
    "version": 3
   },
   "file_extension": ".py",
   "mimetype": "text/x-python",
   "name": "python",
   "nbconvert_exporter": "python",
   "pygments_lexer": "ipython3",
   "version": "3.12.10"
  }
 },
 "nbformat": 4,
 "nbformat_minor": 5
}
